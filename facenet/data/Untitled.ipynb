{
 "cells": [
  {
   "cell_type": "code",
   "execution_count": 2,
   "metadata": {},
   "outputs": [],
   "source": [
    "from scipy.spatial import distance\n",
    "import torch\n",
    "import torch.nn as nn\n",
    "import torch.nn.functional as F\n",
    "import cv2, os ,numpy as np\n",
    "from facenet import MTCNN, Ince"
   ]
  },
  {
   "cell_type": "code",
   "execution_count": null,
   "metadata": {},
   "outputs": [],
   "source": [
    "# If required, create a face detection pipeline using MTCNN:\n",
    "mtcnn = MTCNN(image_size=160, margin=0, keep_all=True,device='cuda:0')\n",
    "\n",
    "# Create an inception resnet (in eval mode):\n",
    "model = InceptionResnetV1(pretrained='vggface2',device='cuda:0')\n",
    "state_dict = torch.load(\"20180402-114759-vggface2.pt\")\n",
    "model.load_state_dict(state_dict)\n",
    "model.eval()\n",
    "\n",
    "\n",
    "img = Image.open('zidane.jpg')\n",
    "\n",
    "# Get cropped and prewhitened image tensor\n",
    "img_cropped,prob = mtcnn(img, save_path=r'C:/Users/sshss/results.jpg',return_prob=True)\n",
    "boxes, probs, points = mtcnn.detect(img, landmarks=True)\n",
    "img_cropped = img_cropped.cuda()\n",
    "\n",
    "# Calculate embedding (unsqueeze to add batch dimension)\n",
    "img_embedding = model(img_cropped)\n",
    "\n",
    "# Or, if using for VGGFace2 classification\n",
    "model.classify = True\n",
    "img_probs = model(img_cropped)"
   ]
  }
 ],
 "metadata": {
  "kernelspec": {
   "display_name": "Python 3",
   "language": "python",
   "name": "python3"
  },
  "language_info": {
   "codemirror_mode": {
    "name": "ipython",
    "version": 3
   },
   "file_extension": ".py",
   "mimetype": "text/x-python",
   "name": "python",
   "nbconvert_exporter": "python",
   "pygments_lexer": "ipython3",
   "version": "3.6.9"
  }
 },
 "nbformat": 4,
 "nbformat_minor": 4
}
